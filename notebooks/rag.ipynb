{
 "cells": [
  {
   "cell_type": "markdown",
   "id": "568a95f0",
   "metadata": {},
   "source": [
    "# Retrieval-Augmented Generation (RAG)"
   ]
  },
  {
   "cell_type": "code",
   "execution_count": 11,
   "id": "3b442449",
   "metadata": {},
   "outputs": [
    {
     "data": {
      "text/plain": [
       "True"
      ]
     },
     "execution_count": 11,
     "metadata": {},
     "output_type": "execute_result"
    }
   ],
   "source": [
    "import chromadb\n",
    "import dotenv\n",
    "from pathlib import Path\n",
    "from agents import Agent, Runner, function_tool, trace\n",
    "\n",
    "dotenv.load_dotenv()"
   ]
  },
  {
   "cell_type": "markdown",
   "id": "69af3322",
   "metadata": {},
   "source": [
    "Create a static calorie table that we can use as a tool:"
   ]
  },
  {
   "cell_type": "code",
   "execution_count": 12,
   "id": "5cd4f7ad",
   "metadata": {},
   "outputs": [],
   "source": [
    "# We populated the RAG with the data from the data/calories.csv file in\n",
    "# the rag_setup.ipynb notebook\n",
    "\n",
    "chroma_client = chromadb.PersistentClient(\"../chroma\")\n",
    "nutrition_db = chroma_client.get_collection(name=\"nutrition_db\")\n",
    "nutrition_qa_db = chroma_client.get_collection(name=\"nutrition_qna\")"
   ]
  },
  {
   "cell_type": "code",
   "execution_count": 13,
   "id": "aae53855",
   "metadata": {},
   "outputs": [
    {
     "name": "stdout",
     "output_type": "stream",
     "text": [
      "[('calories_per_100g', 89.0), ('food_category', 'fruits'), ('food_item', 'banana'), ('keywords', 'banana_fruits'), ('kj_per_100g', 374.0), ('serving_info', '100g')]\n",
      "Food: Banana\n",
      "        Category: Fruits\n",
      "        Nutritional Information:\n",
      "        - Calories: 89 per 100g\n",
      "        - Energy: 374 kJ per 100g\n",
      "        - Serving size reference: 100g\n",
      "\n",
      "        This is a fruits food item that provides 89 calories per 100 grams.\n",
      "\n",
      "\n",
      "[('calories_per_100g', 50.0), ('food_category', '(fruit)juices'), ('food_item', 'banana juice'), ('keywords', 'banana_juice_(fruit)juices'), ('kj_per_100g', 210.0), ('serving_info', '100ml')]\n",
      "Food: Banana Juice\n",
      "        Category: (Fruit)Juices\n",
      "        Nutritional Information:\n",
      "        - Calories: 50 per 100g\n",
      "        - Energy: 210 kJ per 100g\n",
      "        - Serving size reference: 100ml\n",
      "\n",
      "        This is a (fruit)juices food item that provides 50 calories per 100 grams.\n",
      "\n",
      "\n"
     ]
    }
   ],
   "source": [
    "results = nutrition_db.query(query_texts=[\"banana\"], n_results=2)\n",
    "for i, doc in enumerate(results[\"documents\"][0]):\n",
    "    print(sorted(results[\"metadatas\"][0][i].items()))\n",
    "    print(doc)\n",
    "    print(\"\\n\")"
   ]
  },
  {
   "cell_type": "code",
   "execution_count": 14,
   "id": "fe2a2850",
   "metadata": {},
   "outputs": [],
   "source": [
    "@function_tool\n",
    "def calorie_lookup_tool(query: str, max_results: int = 3) -> str:\n",
    "    \"\"\"\n",
    "    Tool function for a RAG database to look up calorie information for specific food items, but not for meals.\n",
    "\n",
    "    Args:\n",
    "        query: The food item to look up.\n",
    "        max_results: The maximum number of results to return.\n",
    "\n",
    "    Returns:\n",
    "        A string containing the nutrition information.\n",
    "    \"\"\"\n",
    "\n",
    "    results = nutrition_db.query(query_texts=[query], n_results=max_results)\n",
    "\n",
    "    if not results[\"documents\"][0]:\n",
    "        return f\"No nutrition information found for: {query}\"\n",
    "\n",
    "    # Format results for the agent\n",
    "    formatted_results = []\n",
    "    for i, doc in enumerate(results[\"documents\"][0]):\n",
    "        metadata = results[\"metadatas\"][0][i]\n",
    "        food_item = metadata[\"food_item\"].title()\n",
    "        calories = metadata[\"calories_per_100g\"]\n",
    "        category = metadata[\"food_category\"].title()\n",
    "\n",
    "        formatted_results.append(\n",
    "            f\"{food_item} ({category}): {calories} calories per 100g\"\n",
    "        )\n",
    "\n",
    "    return \"Nutrition Information:\\n\" + \"\\n\".join(formatted_results)"
   ]
  },
  {
   "cell_type": "markdown",
   "id": "c4507cd1",
   "metadata": {},
   "source": [
    "Let's test this out: \n",
    "\n",
    "_The following cell only works before you add the `@function_tool` annotation to `calorie_lookup_tool` function_"
   ]
  },
  {
   "cell_type": "code",
   "execution_count": null,
   "id": "3f07cbdb",
   "metadata": {},
   "outputs": [
    {
     "data": {
      "text/plain": [
       "'Nutrition Information:\\nBanana (Fruits): 89.0 calories per 100g\\nBanana Juice ((Fruit)Juices): 50.0 calories per 100g\\nBanana Nut Bread (Pastries,Breads&Rolls): 326.0 calories per 100g'"
      ]
     },
     "execution_count": 5,
     "metadata": {},
     "output_type": "execute_result"
    }
   ],
   "source": [
    "# calorie_lookup_tool('bananas')"
   ]
  },
  {
   "cell_type": "code",
   "execution_count": 15,
   "id": "1fe172e2",
   "metadata": {},
   "outputs": [],
   "source": [
    "calorie_agent = Agent(\n",
    "    name=\"Nutrition Assistant\",\n",
    "    instructions=\"\"\"\n",
    "    You are a helpful nutrition assistant giving out calorie information.\n",
    "    You give concise answers.\n",
    "    If you need to look up calorie information, use the calorie_lookup_tool.\n",
    "    \"\"\",\n",
    "    tools=[calorie_lookup_tool]\n",
    ")"
   ]
  },
  {
   "cell_type": "code",
   "execution_count": 16,
   "id": "1705b2fc",
   "metadata": {},
   "outputs": [
    {
     "name": "stdout",
     "output_type": "stream",
     "text": [
      "- Calories per 100 g: banana 89 kcal, apple 52 kcal\n",
      "- Typical medium banana (~118 g): ~105 kcal\n",
      "- Typical medium apple (~182 g): ~95 kcal\n",
      "- Estimated total (one medium banana + one medium apple): ~200 kcal\n"
     ]
    }
   ],
   "source": [
    "with trace(\"Nutrition Assistant with RAG\"):\n",
    "    result = await Runner.run(\n",
    "        calorie_agent,\n",
    "        \"How many calories are in total in a banana and an apple? Also give calories per 100g\",\n",
    "    )\n",
    "    print(result.final_output)"
   ]
  },
  {
   "cell_type": "code",
   "execution_count": 17,
   "id": "3a14265c",
   "metadata": {},
   "outputs": [
    {
     "name": "stdout",
     "output_type": "stream",
     "text": [
      "[('is_pregnancy', False)]\n",
      "Question: Which factors are cited as the main causes of malnutrition?\n",
      "        Answer: The text mentions several key reasons for malnourishment. These include a lack of understanding about selecting nutritious foods, financial constraints and diseases caused by pathogens, drought-related scarcity, unequal distribution of available foods, societal stagnation and disputes, transportation issues, population growth, suboptimal weaning practices, agricultural techniques, ineffective resource management, terrain differences, crop damage from insects, and overused land due to excessive cultivation.\n",
      "\n",
      "        This Q&A pair provides information about nutrition and health topics.\n",
      "\n",
      "\n",
      "[('is_pregnancy', True)]\n",
      "Question: Which demographic is primarily at risk for malnutrition?\n",
      "        Answer: Malnourishment principally affects young children under two years old; nonetheless, it also impacts individuals below five years of age, teenagers, pregnant or nursing mothers, the elderly, and those suffering from chronic illnesses.\n",
      "\n",
      "        This Q&A pair provides information about nutrition and health topics.\n",
      "\n",
      "\n"
     ]
    }
   ],
   "source": [
    "# Test Q&A RAG tool\n",
    "results = nutrition_qa_db.query(query_texts=[\"malnutrition\"], n_results=2)\n",
    "for i, doc in enumerate(results[\"documents\"][0]):\n",
    "    print(sorted(results[\"metadatas\"][0][i].items()))\n",
    "    print(doc)\n",
    "    print(\"\\n\")"
   ]
  },
  {
   "cell_type": "code",
   "execution_count": 22,
   "id": "9d7563e4",
   "metadata": {},
   "outputs": [],
   "source": [
    "@function_tool\n",
    "def nutrition_qa_lookup_tool(query: str, max_results: int = 3) -> str:\n",
    "    \"\"\"\n",
    "    Tool function for a RAG database to look up nutrtion information for some conditions.\n",
    "\n",
    "    Args:\n",
    "        query: The nutrition item to look up.\n",
    "        max_results: The maximum number of results to return.\n",
    "\n",
    "    Returns:\n",
    "        A string containing the nutrition information.\n",
    "    \"\"\"\n",
    "\n",
    "    results = nutrition_qa_db.query(query_texts=[query], n_results=max_results)\n",
    "\n",
    "    if not results[\"documents\"][0]:\n",
    "        return f\"No information found for: {query}\"\n",
    "\n",
    "    # Format results for the agent\n",
    "    formatted_results = []\n",
    "    for i, doc in enumerate(results[\"documents\"][0]):\n",
    "        formatted_results.append(doc)\n",
    "\n",
    "    return \"Related answers to your question:\\n\" + \"\\n\".join(formatted_results)"
   ]
  },
  {
   "cell_type": "code",
   "execution_count": 20,
   "id": "d4f30c33",
   "metadata": {},
   "outputs": [],
   "source": [
    "# nutrition_QA_lookup_tool(\"What foods shouldn't be eaten in pregnancy?\")"
   ]
  },
  {
   "cell_type": "code",
   "execution_count": 23,
   "id": "354c5e20",
   "metadata": {},
   "outputs": [],
   "source": [
    "nutrition_qa_agent = Agent(\n",
    "    name=\"Nutrition Q&A Assistant\",\n",
    "    instructions=\"\"\"\n",
    "    You are a helpful nutrition assistant giving out nutrition information, especially around pregnancy.\n",
    "    You give concise answers.\n",
    "    If you need to look up information, use the nutrition_qa_lookup_tool.\n",
    "    \"\"\",\n",
    "    tools=[nutrition_qa_lookup_tool])"
   ]
  },
  {
   "cell_type": "code",
   "execution_count": 24,
   "id": "f21f6937",
   "metadata": {},
   "outputs": [
    {
     "name": "stdout",
     "output_type": "stream",
     "text": [
      "Here are foods to avoid or limit in pregnancy and why:\n",
      "\n",
      "- Raw or undercooked eggs/meat and unpasteurized dairy: risk of Salmonella and other bacteria.\n",
      "- Unpasteurized milk/dairy and soft cheeses (e.g., Brie, feta, camembert, blue cheese) unless clearly labeled pasteurized: higher risk of listeria.\n",
      "- deli meats, hot dogs, and smoked meats unless heated until steaming: listeria risk.\n",
      "- Raw or undercooked seafood, including sushi with raw fish and shellfish: foodborne illness and parasites.\n",
      "- Certain fish high in mercury (e.g., shark, swordfish, king mackerel, tilefish, bigeye tuna): mercury can affect fetal development; limit albacore tuna and tuna steaks.\n",
      "- Unwashed fruits/vegetables: risk of toxoplasmosis and other contaminants.\n",
      "- Raw sprouts (alfalfa, bean sprouts): bacteria risk that is hard to wash off.\n",
      "- Alcohol: can cause fetal alcohol spectrum disorders; no safe amount established.\n",
      "- Excess vitamin A from supplements/animal liver: high intake can harm fetal development.\n",
      "\n",
      "General tips:\n",
      "- Cook foods thoroughly and avoid cross-contamination.\n",
      "- Wash produce well.\n",
      "- Choose pasteurized dairy and deli products, heat deli meats to steaming hot before eating.\n",
      "- Limit caffeine (often advised ≤200 mg per day, but check your provider’s guidance).\n",
      "- Discuss containing any fish you eat with your clinician to manage mercury and omega-3 intake.\n",
      "\n",
      "If you have specific cravings or dietary restrictions, talk to your healthcare provider for personalized guidance.\n"
     ]
    }
   ],
   "source": [
    "with trace(\"Nutrition Q&A with RAG\"):\n",
    "    result = await Runner.run(\n",
    "        calorie_agent,\n",
    "        \"What foods should be avoided in pregnancy? Why?\",\n",
    "    )\n",
    "    print(result.final_output)"
   ]
  },
  {
   "cell_type": "code",
   "execution_count": null,
   "id": "20f5dbbb",
   "metadata": {},
   "outputs": [],
   "source": []
  }
 ],
 "metadata": {
  "kernelspec": {
   "display_name": "Python 3",
   "language": "python",
   "name": "python3"
  },
  "language_info": {
   "codemirror_mode": {
    "name": "ipython",
    "version": 3
   },
   "file_extension": ".py",
   "mimetype": "text/x-python",
   "name": "python",
   "nbconvert_exporter": "python",
   "pygments_lexer": "ipython3",
   "version": "3.13.5"
  }
 },
 "nbformat": 4,
 "nbformat_minor": 5
}
