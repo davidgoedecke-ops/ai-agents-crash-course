{
 "cells": [
  {
   "cell_type": "markdown",
   "id": "b35e6ed2",
   "metadata": {},
   "source": [
    "# MCP"
   ]
  },
  {
   "cell_type": "code",
   "execution_count": 1,
   "id": "f92c9e77",
   "metadata": {},
   "outputs": [
    {
     "data": {
      "text/plain": [
       "True"
      ]
     },
     "execution_count": 1,
     "metadata": {},
     "output_type": "execute_result"
    }
   ],
   "source": [
    "import os\n",
    "\n",
    "import chromadb\n",
    "import dotenv\n",
    "from agents import Agent, Runner, WebSearchTool, function_tool, trace\n",
    "from agents.mcp import MCPServerStreamableHttp\n",
    "\n",
    "dotenv.load_dotenv()"
   ]
  },
  {
   "cell_type": "markdown",
   "id": "8938c970",
   "metadata": {},
   "source": [
    "Let's set up our RAG database connection:"
   ]
  },
  {
   "cell_type": "code",
   "execution_count": 2,
   "id": "79d82b12",
   "metadata": {},
   "outputs": [],
   "source": [
    "chroma_client = chromadb.PersistentClient(path=\"../chroma\")\n",
    "nutrition_db = chroma_client.get_collection(name=\"nutrition_db\")"
   ]
  },
  {
   "cell_type": "code",
   "execution_count": 9,
   "id": "b2fac606",
   "metadata": {},
   "outputs": [],
   "source": [
    "# This is the same code as in the rag.ipynb notebook\n",
    "\n",
    "\n",
    "@function_tool\n",
    "def calorie_lookup_tool(query: str, max_results: int = 3) -> str:\n",
    "    \"\"\"\n",
    "    Tool function for a RAG database to look up calorie information for specific food items, but not for meals.\n",
    "\n",
    "    Args:\n",
    "        query: The food item to look up.\n",
    "        max_results: The maximum number of results to return.\n",
    "\n",
    "    Returns:\n",
    "        A string containing the nutrition information.\n",
    "    \"\"\"\n",
    "\n",
    "    results = nutrition_db.query(query_texts=[query], n_results=max_results)\n",
    "\n",
    "    if not results[\"documents\"][0]:\n",
    "        return f\"No nutrition information found for: {query}\"\n",
    "\n",
    "    # Format results for the agent\n",
    "    formatted_results = []\n",
    "    for i, doc in enumerate(results[\"documents\"][0]):\n",
    "        metadata = results[\"metadatas\"][0][i]\n",
    "        food_item = metadata[\"food_item\"].title()\n",
    "        calories = metadata[\"calories_per_100g\"]\n",
    "        category = metadata[\"food_category\"].title()\n",
    "\n",
    "        formatted_results.append(\n",
    "            f\"{food_item} ({category}): {calories} calories per 100g\"\n",
    "        )\n",
    "\n",
    "    return \"Nutrition Information:\\n\" + \"\\n\".join(formatted_results)"
   ]
  },
  {
   "cell_type": "markdown",
   "id": "af7ae56a",
   "metadata": {},
   "source": [
    "Integrate Open AI Search as an MCP:"
   ]
  },
  {
   "cell_type": "code",
   "execution_count": 10,
   "id": "b8446290",
   "metadata": {},
   "outputs": [],
   "source": [
    "# Open AI WebSearchTool:\n",
    "\n",
    "calorie_agent_with_search = Agent(\n",
    "    name=\"Calorie Assistant\",\n",
    "    tools=[\n",
    "        calorie_lookup_tool,\n",
    "        WebSearchTool()      \n",
    "    ]\n",
    ")\n"
   ]
  },
  {
   "cell_type": "markdown",
   "id": "9b5fe9e6",
   "metadata": {},
   "source": [
    "Reference query - shouldn't use WebSearch():"
   ]
  },
  {
   "cell_type": "code",
   "execution_count": 11,
   "id": "e9440d7e",
   "metadata": {},
   "outputs": [
    {
     "name": "stdout",
     "output_type": "stream",
     "text": [
      "RunResult:\n",
      "- Last agent: Agent(name=\"Calorie Assistant\", ...)\n",
      "- Final output (str):\n",
      "    - Rough totals for one medium banana + one medium apple: about 200 kcal.\n",
      "    - Calories per 100 g:\n",
      "      - Banana: ~89 kcal\n",
      "      - Apple: ~52 kcal\n",
      "    \n",
      "    If you know the exact weights, I can recalc precisely.\n",
      "- 2 new item(s)\n",
      "- 1 raw response(s)\n",
      "- 0 input guardrail result(s)\n",
      "- 0 output guardrail result(s)\n",
      "(See `RunResult` for more details)\n"
     ]
    }
   ],
   "source": [
    "with trace(\"Nutrition Assistant with MCP - Only uses calorie_lookup_tool\"):\n",
    "    result = await Runner.run(\n",
    "        calorie_agent_with_search,\n",
    "        \"How many calories are in total in a banana and an apple? Also give calories per 100g\",\n",
    "    )\n",
    "    print(result)"
   ]
  },
  {
   "cell_type": "code",
   "execution_count": 12,
   "id": "9c1b3db5",
   "metadata": {},
   "outputs": [
    {
     "name": "stdout",
     "output_type": "stream",
     "text": [
      "Here’s Melbourne today:\n",
      "- Today (Tue Oct 28): Mostly sunny, high around 18°C, low ~6°C. Currently sunny. Great for a stroll, with a pleasant but cool breeze in the morning/afternoon. \n",
      "\n",
      "Coffee shop picks by vibe (Melbourne, Australia)\n",
      "- If you want a trendy, cafe-with-ambience spot: Proud Mary (Collins St or nearby) — good beans, stylish space, plenty of seating.\n",
      "- If you prefer expert roasting and a coffee-forward menu: Industry Beans (Melbourne CBD or Fitzroy) — known for meticulous coffee prep and a chic, industrial vibe.\n",
      "- If you want a classic Melbourne cafe experience with solid espresso and a neighbourhood feel: Axil Coffee Roasters (various locations) — reliable, comfy, great for a relaxed break.\n",
      "\n",
      "Would you tell me:\n",
      "- Which area you’ll be near (CBD, Fitzroy, Southbank, etc.)?\n",
      "- Indoor vs outdoor seating preference?\n",
      "- Any dietary needs (milk alternatives, pastries, etc.)?\n",
      "\n",
      "I can tailor a specific recommendation and a quick route.\n"
     ]
    }
   ],
   "source": [
    "result = await Runner.run(calorie_agent_with_search, \"Which coffee shop should I go to, taking into account the weather today in Melbourne, Australia?\")\n",
    "print(result.final_output)"
   ]
  },
  {
   "cell_type": "code",
   "execution_count": null,
   "id": "64c61b38",
   "metadata": {},
   "outputs": [],
   "source": []
  }
 ],
 "metadata": {
  "kernelspec": {
   "display_name": "Python 3",
   "language": "python",
   "name": "python3"
  },
  "language_info": {
   "codemirror_mode": {
    "name": "ipython",
    "version": 3
   },
   "file_extension": ".py",
   "mimetype": "text/x-python",
   "name": "python",
   "nbconvert_exporter": "python",
   "pygments_lexer": "ipython3",
   "version": "3.13.5"
  }
 },
 "nbformat": 4,
 "nbformat_minor": 5
}
